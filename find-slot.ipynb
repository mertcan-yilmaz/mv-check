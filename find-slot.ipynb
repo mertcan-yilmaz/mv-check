{
 "cells": [
  {
   "cell_type": "code",
   "execution_count": 8,
   "metadata": {},
   "outputs": [
    {
     "name": "stdout",
     "output_type": "stream",
     "text": [
      "Requirement already satisfied: requests in c:\\users\\merca610\\anaconda3\\lib\\site-packages (2.31.0)\n",
      "Requirement already satisfied: schedule in c:\\users\\merca610\\anaconda3\\lib\\site-packages (1.2.1)\n",
      "Collecting playsound\n",
      "  Downloading playsound-1.3.0.tar.gz (7.7 kB)\n",
      "  Preparing metadata (setup.py): started\n",
      "  Preparing metadata (setup.py): finished with status 'done'\n",
      "Requirement already satisfied: certifi>=2017.4.17 in c:\\users\\merca610\\anaconda3\\lib\\site-packages (from requests) (2023.11.17)\n",
      "Requirement already satisfied: urllib3<3,>=1.21.1 in c:\\users\\merca610\\anaconda3\\lib\\site-packages (from requests) (1.26.11)\n",
      "Requirement already satisfied: idna<4,>=2.5 in c:\\users\\merca610\\anaconda3\\lib\\site-packages (from requests) (3.4)\n",
      "Requirement already satisfied: charset-normalizer<4,>=2 in c:\\users\\merca610\\anaconda3\\lib\\site-packages (from requests) (2.0.4)\n",
      "Building wheels for collected packages: playsound\n",
      "  Building wheel for playsound (setup.py): started\n",
      "  Building wheel for playsound (setup.py): finished with status 'done'\n",
      "  Created wheel for playsound: filename=playsound-1.3.0-py3-none-any.whl size=7020 sha256=a6a997c9a50605fad562b97337b8ef6bfec0f5e6bf31ebb8872ffc730a20fac3\n",
      "  Stored in directory: c:\\users\\merca610\\appdata\\local\\pip\\cache\\wheels\\ba\\39\\54\\c8f7ff9a88a644d3c58b4dec802d90b79a2e0fb2a6b884bf82\n",
      "Successfully built playsound\n",
      "Installing collected packages: playsound\n",
      "Successfully installed playsound-1.3.0\n",
      "Note: you may need to restart the kernel to use updated packages.\n"
     ]
    }
   ],
   "source": [
    "pip install requests schedule playsound\n"
   ]
  },
  {
   "cell_type": "code",
   "execution_count": 7,
   "metadata": {},
   "outputs": [
    {
     "name": "stdout",
     "output_type": "stream",
     "text": [
      "No slots available for Stockholm on 2024-05-13 09:32:54\n",
      "No slots available for Uppsala on 2024-05-13 09:32:55\n",
      "Slots found in Örebro! Click the link below to book it right now:\n",
      "https://www.migrationsverket.se/ansokanbokning/valjtyp?sprak=en&bokningstyp=2&enhet=MAOM&sokande=1\n",
      "No slots available for Stockholm on 2024-05-13 09:33:00\n",
      "No slots available for Uppsala on 2024-05-13 09:33:01\n",
      "Slots found in Örebro! Click the link below to book it right now:\n",
      "https://www.migrationsverket.se/ansokanbokning/valjtyp?sprak=en&bokningstyp=2&enhet=MAOM&sokande=1\n",
      "No slots available for Stockholm on 2024-05-13 09:33:03\n",
      "No slots available for Uppsala on 2024-05-13 09:33:06\n",
      "Slots found in Örebro! Click the link below to book it right now:\n",
      "https://www.migrationsverket.se/ansokanbokning/valjtyp?sprak=en&bokningstyp=2&enhet=MAOM&sokande=1\n",
      "No slots available for Stockholm on 2024-05-13 09:33:08\n",
      "No slots available for Uppsala on 2024-05-13 09:33:08\n",
      "Slots found in Örebro! Click the link below to book it right now:\n",
      "https://www.migrationsverket.se/ansokanbokning/valjtyp?sprak=en&bokningstyp=2&enhet=MAOM&sokande=1\n"
     ]
    },
    {
     "ename": "KeyboardInterrupt",
     "evalue": "",
     "output_type": "error",
     "traceback": [
      "\u001b[1;31m---------------------------------------------------------------------------\u001b[0m",
      "\u001b[1;31mKeyboardInterrupt\u001b[0m                         Traceback (most recent call last)",
      "\u001b[1;32m~\\AppData\\Local\\Temp\\ipykernel_16340\\2233311026.py\u001b[0m in \u001b[0;36m<module>\u001b[1;34m\u001b[0m\n\u001b[0;32m     29\u001b[0m \u001b[1;32mwhile\u001b[0m \u001b[1;32mTrue\u001b[0m\u001b[1;33m:\u001b[0m\u001b[1;33m\u001b[0m\u001b[1;33m\u001b[0m\u001b[0m\n\u001b[0;32m     30\u001b[0m    \u001b[0mschedule\u001b[0m\u001b[1;33m.\u001b[0m\u001b[0mrun_pending\u001b[0m\u001b[1;33m(\u001b[0m\u001b[1;33m)\u001b[0m\u001b[1;33m\u001b[0m\u001b[1;33m\u001b[0m\u001b[0m\n\u001b[1;32m---> 31\u001b[1;33m    \u001b[0mtime\u001b[0m\u001b[1;33m.\u001b[0m\u001b[0msleep\u001b[0m\u001b[1;33m(\u001b[0m\u001b[1;36m1\u001b[0m\u001b[1;33m)\u001b[0m\u001b[1;33m\u001b[0m\u001b[1;33m\u001b[0m\u001b[0m\n\u001b[0m",
      "\u001b[1;31mKeyboardInterrupt\u001b[0m: "
     ]
    }
   ],
   "source": [
    "import requests\n",
    "import schedule\n",
    "import time\n",
    "\n",
    "# Define the URLs for the different locations\n",
    "base_url = \"https://www.migrationsverket.se/ansokanbokning/valjtyp?sprak=en\"\n",
    "urls = {\n",
    "    \"Stockholm\": f\"{base_url}&bokningstyp=2&enhet=Z209&sokande=1\",\n",
    "    \"Uppsala\": f\"{base_url}&bokningstyp=2&enhet=MUP1&sokande=1\",\n",
    "    \"Örebro\": f\"{base_url}&bokningstyp=2&enhet=MAOM&sokande=1\"\n",
    "}\n",
    "\n",
    "def check_appointment(url, city):\n",
    "    response = requests.get(url)\n",
    "    if \"there are no available time slots\" in response.text:\n",
    "        print(f\"No slots available for {city} on {time.strftime('%Y-%m-%d %H:%M:%S')}\")\n",
    "    else:\n",
    "        print(f\"Slots found in {city}! Click the link below to book it right now:\\n{url}\")\n",
    "        playsound('path_to_your_sound_file.mp3')  # Play a sound\n",
    "\n",
    "\n",
    "def job():\n",
    "    for city, url in urls.items():\n",
    "        check_appointment(url, city)\n",
    "# Run the job first immediately\n",
    "job()\n",
    "\n",
    "# Schedule to check every 10 minutes\n",
    "schedule.every(5).seconds.do(job)\n",
    "\n",
    "# Keep the script running\n",
    "while True:\n",
    "   schedule.run_pending()\n",
    "   time.sleep(1)\n"
   ]
  }
 ],
 "metadata": {
  "kernelspec": {
   "display_name": "base",
   "language": "python",
   "name": "python3"
  },
  "language_info": {
   "codemirror_mode": {
    "name": "ipython",
    "version": 3
   },
   "file_extension": ".py",
   "mimetype": "text/x-python",
   "name": "python",
   "nbconvert_exporter": "python",
   "pygments_lexer": "ipython3",
   "version": "3.9.13"
  }
 },
 "nbformat": 4,
 "nbformat_minor": 2
}
